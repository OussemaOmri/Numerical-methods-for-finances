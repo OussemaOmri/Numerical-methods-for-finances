{
  "nbformat": 4,
  "nbformat_minor": 0,
  "metadata": {
    "colab": {
      "name": "TPs méthodes numériques pour la finance.ipynb",
      "provenance": [],
      "collapsed_sections": [],
      "include_colab_link": true
    },
    "kernelspec": {
      "name": "python3",
      "display_name": "Python 3"
    },
    "language_info": {
      "name": "python"
    }
  },
  "cells": [
    {
      "cell_type": "markdown",
      "metadata": {
        "id": "view-in-github",
        "colab_type": "text"
      },
      "source": [
        "<a href=\"https://colab.research.google.com/github/OussemaOmri/Numerical-methods-for-finances/blob/main/TPs_m%C3%A9thodes_num%C3%A9riques_pour_la_finance.ipynb\" target=\"_parent\"><img src=\"https://colab.research.google.com/assets/colab-badge.svg\" alt=\"Open In Colab\"/></a>"
      ]
    },
    {
      "cell_type": "markdown",
      "source": [
        "# **TPs Méthodes numériques pour la Finance - Oussema Omri - **\n",
        "\n",
        "\n",
        "\n",
        "\n"
      ],
      "metadata": {
        "id": "tTvQOC2RwMbu"
      }
    },
    {
      "cell_type": "markdown",
      "source": [
        "### **TP1: Simulation des variables aléatoires gaussiennes**"
      ],
      "metadata": {
        "id": "fGR92VCp2AAf"
      }
    },
    {
      "cell_type": "markdown",
      "source": [
        "**TP1: Exercice 1**"
      ],
      "metadata": {
        "id": "0_S07X1nwaVX"
      }
    },
    {
      "cell_type": "markdown",
      "source": [
        "L’objet de l’exercice consiste à se familiariser avec (VBA ou R ou Python) et générer des variables aléatoires uniformes. On Crée une fonction Function testBasegenerator (). A l’intérieur de cette fonction on génère des variables aléatoires uniformes. \n",
        "On trace la distribution d’une Uniforme sur [0, 1] et on calcule sa moyenne et sa variance numériquement et comparer aux résultats théoriques.\n"
      ],
      "metadata": {
        "id": "tU68ciIvwfdP"
      }
    },
    {
      "cell_type": "code",
      "execution_count": null,
      "metadata": {
        "id": "Q3FrUdwBPJS4"
      },
      "outputs": [],
      "source": [
        "#Importation des bibliothèques\n",
        "from random import random\n",
        "import numpy as np\n",
        "import matplotlib.pyplot as plt\n",
        "import seaborn as sns\n",
        "import sympy as sp\n",
        "import scipy.stats as stat"
      ]
    },
    {
      "cell_type": "code",
      "source": [
        "#Définir la fonction: testBasegenerator\n",
        "def testBasegenerator(a,b,c):\n",
        "  return(np.random.uniform(a,b,c))"
      ],
      "metadata": {
        "id": "FUTwqUa-sexR"
      },
      "execution_count": null,
      "outputs": []
    },
    {
      "cell_type": "code",
      "source": [
        "#Running\n",
        "testBasegenerator(0,1,100)"
      ],
      "metadata": {
        "colab": {
          "base_uri": "https://localhost:8080/"
        },
        "id": "IQoVnjoQs1Nf",
        "outputId": "2f35442e-bf98-47c2-af52-779b95552220"
      },
      "execution_count": null,
      "outputs": [
        {
          "output_type": "execute_result",
          "data": {
            "text/plain": [
              "array([0.09493931, 0.02577328, 0.65932342, 0.83498644, 0.78555592,\n",
              "       0.96255022, 0.77379666, 0.73279024, 0.65647793, 0.05268203,\n",
              "       0.88525221, 0.93535312, 0.56949339, 0.76756586, 0.11025931,\n",
              "       0.18237769, 0.01695231, 0.10383256, 0.51935637, 0.89447948,\n",
              "       0.23773507, 0.92735701, 0.95577386, 0.10395693, 0.74139654,\n",
              "       0.33646537, 0.22259651, 0.42063331, 0.98593488, 0.32709444,\n",
              "       0.50225188, 0.87080408, 0.99189129, 0.65873067, 0.99235826,\n",
              "       0.00273784, 0.28888975, 0.99221303, 0.94498736, 0.65576347,\n",
              "       0.17918027, 0.65949454, 0.12106091, 0.05520243, 0.23607593,\n",
              "       0.02856244, 0.92020532, 0.75277423, 0.46435056, 0.09564165,\n",
              "       0.17155092, 0.71573598, 0.59140619, 0.69797997, 0.08359036,\n",
              "       0.47495056, 0.36549036, 0.18708138, 0.78332174, 0.198417  ,\n",
              "       0.62400313, 0.31436826, 0.77844091, 0.96684932, 0.55452566,\n",
              "       0.63797171, 0.3180264 , 0.98326484, 0.48890262, 0.32525256,\n",
              "       0.34969338, 0.94387371, 0.43501861, 0.74992039, 0.61480237,\n",
              "       0.43486292, 0.08698473, 0.25538614, 0.99263805, 0.31923623,\n",
              "       0.10575789, 0.4494649 , 0.89996578, 0.20496366, 0.14515316,\n",
              "       0.32052887, 0.90545622, 0.89895521, 0.55650478, 0.67349265,\n",
              "       0.00216729, 0.19623605, 0.54005692, 0.41801683, 0.92087986,\n",
              "       0.27757628, 0.18987905, 0.71482704, 0.83180191, 0.60028897])"
            ]
          },
          "metadata": {},
          "execution_count": 3
        }
      ]
    },
    {
      "cell_type": "code",
      "source": [
        "#Plot\n",
        "fig, ax = plt.subplots()\n",
        "sns.distplot(testBasegenerator(0,1,100), bins=50, color=\"b\", ax=ax)\n",
        "plt.show()"
      ],
      "metadata": {
        "colab": {
          "base_uri": "https://localhost:8080/",
          "height": 320
        },
        "id": "Ve28we8qtEuX",
        "outputId": "1780c7ff-349b-44fb-e5f7-9396e9023a5b"
      },
      "execution_count": null,
      "outputs": [
        {
          "output_type": "stream",
          "name": "stderr",
          "text": [
            "/usr/local/lib/python3.7/dist-packages/seaborn/distributions.py:2619: FutureWarning: `distplot` is a deprecated function and will be removed in a future version. Please adapt your code to use either `displot` (a figure-level function with similar flexibility) or `histplot` (an axes-level function for histograms).\n",
            "  warnings.warn(msg, FutureWarning)\n"
          ]
        },
        {
          "output_type": "display_data",
          "data": {
            "image/png": "[encoded data removed]",
            "text/plain": [
              "<Figure size 432x288 with 1 Axes>"
            ]
          },
          "metadata": {
            "needs_background": "light"
          }
        }
      ]
    },
    {
      "cell_type": "code",
      "source": [
        "#Définir l'espérance\n",
        "def esperance(a,b,c):\n",
        "  valeurs = testBasegenerator(a,b,c)\n",
        "  probabilites = 1/c\n",
        "  e=0\n",
        "  for i in range(c):\n",
        "    e = e + probabilites*valeurs[i] \n",
        "  return e"
      ],
      "metadata": {
        "id": "SB8efLQEtOMW"
      },
      "execution_count": null,
      "outputs": []
    },
    {
      "cell_type": "code",
      "source": [
        "#Espérance: Valeur théorique :\n",
        "f = lambda t : 1\n",
        "x = sp.Symbol('x')\n",
        "sp.integrate(x, (x,0,1))"
      ],
      "metadata": {
        "colab": {
          "base_uri": "https://localhost:8080/",
          "height": 51
        },
        "id": "CCtUypvPtSCW",
        "outputId": "9f92f02d-271b-45f0-fb7f-1f5ed9d44928"
      },
      "execution_count": null,
      "outputs": [
        {
          "output_type": "execute_result",
          "data": {
            "text/latex": "$\\displaystyle \\frac{1}{2}$",
            "text/plain": [
              "1/2"
            ]
          },
          "metadata": {},
          "execution_count": 6
        }
      ]
    },
    {
      "cell_type": "code",
      "source": [
        "#Run\n",
        "esperance( 0,1,100)"
      ],
      "metadata": {
        "colab": {
          "base_uri": "https://localhost:8080/"
        },
        "id": "A6ciwj7gtV_2",
        "outputId": "d7c80bf0-2d56-4936-fc5a-6f1403989bd0"
      },
      "execution_count": null,
      "outputs": [
        {
          "output_type": "execute_result",
          "data": {
            "text/plain": [
              "0.4752925570873657"
            ]
          },
          "metadata": {},
          "execution_count": 7
        }
      ]
    },
    {
      "cell_type": "markdown",
      "source": [
        "==> La valeur pratique(0.47935115931492295) et la valeur théorique(1/2) trouvées par les codes ci-dessus sont très proches. Ils sont presque égales."
      ],
      "metadata": {
        "id": "z8GsojOxudFg"
      }
    },
    {
      "cell_type": "code",
      "source": [
        "#Définir la variance\n",
        "def variance(a,b,c):\n",
        "  var,N = 0,0\n",
        "  valeurs = testBasegenerator(a,b,c)\n",
        "  probabilites = 1/c\n",
        "  e=esperance(a,b,c)\n",
        "  for i in range(c):\n",
        "    var = var+probabilites*(valeurs[i]-e)**2\n",
        "  return(var)"
      ],
      "metadata": {
        "id": "-dLLRrN4tWef"
      },
      "execution_count": null,
      "outputs": []
    },
    {
      "cell_type": "code",
      "source": [
        "#Run\n",
        "variance(0,1,100)"
      ],
      "metadata": {
        "colab": {
          "base_uri": "https://localhost:8080/"
        },
        "id": "QV4YBiNQtYbP",
        "outputId": "8ab5b471-a0ad-4c59-c94c-9376d4b2f122"
      },
      "execution_count": null,
      "outputs": [
        {
          "output_type": "execute_result",
          "data": {
            "text/plain": [
              "0.07613632468441596"
            ]
          },
          "metadata": {},
          "execution_count": 9
        }
      ]
    },
    {
      "cell_type": "markdown",
      "source": [
        "==> La valeur pratique(0.08985708572067785) et la valeur théorique(1/12) trouvées par les codes ci-dessus sont très proches. Ils sont presque égales"
      ],
      "metadata": {
        "id": "f6RS1ifuvOZm"
      }
    },
    {
      "cell_type": "markdown",
      "source": [
        "**TP1: Exercice 2**"
      ],
      "metadata": {
        "id": "qxAtEhnkw9B2"
      }
    },
    {
      "cell_type": "markdown",
      "source": [
        "On écrit une fonction Function TestBoxMuller() qui simule deux variables aléatoires uniformes U1 et U2 et on calcule les deux variables gaussiennes indépendantes"
      ],
      "metadata": {
        "id": "ssQg_O4ZxRyW"
      }
    },
    {
      "cell_type": "code",
      "source": [
        "#Définir la fonction TestBoxMuller\n",
        "def TestBoxMuller(a,b,c) :\n",
        "  U1 = testBasegenerator(a,b,5000)\n",
        "  U2 = testBasegenerator(a,b,5000)\n",
        "  R = np.sqrt(-2 * np.log(U1))\n",
        "  Theta = 2 * np.pi * U2\n",
        "  X = R * np.cos(Theta)\n",
        "  Y = R * np.sin(Theta)\n",
        "  if c %2 == 0 :\n",
        "    return X\n",
        "  else :\n",
        "    return Y"
      ],
      "metadata": {
        "id": "dQHXFVihvFX2"
      },
      "execution_count": null,
      "outputs": []
    },
    {
      "cell_type": "markdown",
      "source": [
        "**TP1: Exercice 3**"
      ],
      "metadata": {
        "id": "C4zTDVQjxoeQ"
      }
    },
    {
      "cell_type": "markdown",
      "source": [
        "L’objet de l’exercice consiste à créer une fonction qui gère la création de variables aléatoires N(0, 1). Il faut utiliser BaseGenerator pour les variables uniformes et implémenter la méthode Generate via BoxMuller. On Sauvegarde une des deux variables pour le prochain appel. On Calcule la moyenne et la variance numériquement puis on compare aux résultats théoriques."
      ],
      "metadata": {
        "id": "DMJNKjVgxsA_"
      }
    },
    {
      "cell_type": "code",
      "source": [
        "def Boxmuller (n) :\n",
        "  L=[]\n",
        "  for i in range (n) :\n",
        "    L= TestBoxMuller(0,1,i)\n",
        "  return L"
      ],
      "metadata": {
        "id": "yGdu8yM3xrun"
      },
      "execution_count": null,
      "outputs": []
    },
    {
      "cell_type": "code",
      "source": [
        "L=Boxmuller(10000)"
      ],
      "metadata": {
        "id": "_Xagducx-W1l"
      },
      "execution_count": null,
      "outputs": []
    },
    {
      "cell_type": "code",
      "source": [
        "L"
      ],
      "metadata": {
        "colab": {
          "base_uri": "https://localhost:8080/"
        },
        "id": "jBaDt4Lx-erW",
        "outputId": "1945144c-fe28-4fcd-89c5-222dc26e8da6"
      },
      "execution_count": null,
      "outputs": [
        {
          "output_type": "execute_result",
          "data": {
            "text/plain": [
              "array([ 0.25114226,  1.08277598, -0.40411744, ...,  0.04392095,\n",
              "       -0.74069377, -0.39046283])"
            ]
          },
          "metadata": {},
          "execution_count": 13
        }
      ]
    },
    {
      "cell_type": "code",
      "source": [
        "E=np.sum(L)/10000\n",
        "V=np.var(L)\n",
        "print(\"L'espérance est \",E)\n",
        "print(\"La variance est\",V)"
      ],
      "metadata": {
        "colab": {
          "base_uri": "https://localhost:8080/"
        },
        "id": "Q0IvTSVy-iv9",
        "outputId": "8adfdd5c-05d4-43e7-b3e8-754e4a3c9979"
      },
      "execution_count": null,
      "outputs": [
        {
          "output_type": "stream",
          "name": "stdout",
          "text": [
            "L'espérance est  0.008020787014328134\n",
            "La variance est 0.9955630996899717\n"
          ]
        }
      ]
    },
    {
      "cell_type": "markdown",
      "source": [
        "=> Les résultats pratiques sont presques égaux aux résultats théoriques. L'espérance est presque égale à 0 et la variance est presque égale à 1."
      ],
      "metadata": {
        "id": "3xz0kVrW7Acu"
      }
    },
    {
      "cell_type": "code",
      "source": [
        "fig, ax = plt.subplots()\n",
        "sns.distplot(L, bins=50, color=\"B\", ax=ax)\n",
        "plt.show()"
      ],
      "metadata": {
        "colab": {
          "base_uri": "https://localhost:8080/",
          "height": 389
        },
        "id": "UXKdbkQ4_E4O",
        "outputId": "3f66d85f-ec84-4fbc-edb0-73dc3ea7d0fe"
      },
      "execution_count": null,
      "outputs": [
        {
          "output_type": "stream",
          "name": "stderr",
          "text": [
            "/usr/local/lib/python3.7/dist-packages/seaborn/distributions.py:2619: FutureWarning: `distplot` is a deprecated function and will be removed in a future version. Please adapt your code to use either `displot` (a figure-level function with similar flexibility) or `histplot` (an axes-level function for histograms).\n",
            "  warnings.warn(msg, FutureWarning)\n",
            "/usr/local/lib/python3.7/dist-packages/seaborn/distributions.py:2681: MatplotlibDeprecationWarning: Support for uppercase single-letter colors is deprecated since Matplotlib 3.1 and will be removed in 3.3; please use lowercase instead.\n",
            "  color=hist_color, **hist_kws)\n",
            "/usr/local/lib/python3.7/dist-packages/seaborn/distributions.py:177: MatplotlibDeprecationWarning: Support for uppercase single-letter colors is deprecated since Matplotlib 3.1 and will be removed in 3.3; please use lowercase instead.\n",
            "  kws[\"color\"] = to_rgba(color, alpha)\n"
          ]
        },
        {
          "output_type": "display_data",
          "data": {
            "image/png": "[encoded data removed]",
            "text/plain": [
              "<Figure size 432x288 with 1 Axes>"
            ]
          },
          "metadata": {
            "needs_background": "light"
          }
        }
      ]
    },
    {
      "cell_type": "markdown",
      "source": [
        "### **TP2: Simulation de solution d’équations différentielles stochastiques**"
      ],
      "metadata": {
        "id": "XbbPPd_vzFtm"
      }
    },
    {
      "cell_type": "markdown",
      "source": [
        " **TP2: Exercice 1**"
      ],
      "metadata": {
        "id": "cokP25T-zXJH"
      }
    },
    {
      "cell_type": "code",
      "source": [
        "def blackSholes(r,sigma):\n",
        "  N=100\n",
        "  T=1\n",
        "  S0=100\n",
        "  L=TestBoxMuller(r,sigma,N)\n",
        "  S=np.ones(100)\n",
        "  S[0]=S0\n",
        "  for i in range(N-1):\n",
        "    S[i+1]=S[i]+S[i]*r*0.01+sigma*np.sqrt(0.01)*(L[i+1]-L[i])*S[i]\n",
        "  return(S)  "
      ],
      "metadata": {
        "id": "IQcXPKzXzf7f"
      },
      "execution_count": null,
      "outputs": []
    },
    {
      "cell_type": "markdown",
      "source": [
        "Fixant r et variant sigma"
      ],
      "metadata": {
        "id": "8dwAczr82-Px"
      }
    },
    {
      "cell_type": "code",
      "source": [
        "#sigma=0.2 et r=0.1\n",
        "sigma=0.2\n",
        "r=0.1\n",
        "s=[]\n",
        "moy=[]\n",
        "for k in range(200):\n",
        "  s.append(blackSholes(r,sigma))\n",
        "for j in range(200):\n",
        "  moy.append(np.sum(s[k]/len(s[k])))\n",
        "moyenne=np.sum(moy)/200\n",
        "print(moyenne)"
      ],
      "metadata": {
        "colab": {
          "base_uri": "https://localhost:8080/"
        },
        "id": "LgedRYyN3DVx",
        "outputId": "5f9904e8-9bac-4012-a81a-a32a3283f10a"
      },
      "execution_count": null,
      "outputs": [
        {
          "output_type": "stream",
          "name": "stdout",
          "text": [
            "105.27308913360517\n"
          ]
        }
      ]
    },
    {
      "cell_type": "code",
      "source": [
        "#sigma=0.3 et r=0.1\n",
        "sigma=0.3\n",
        "r=0.1\n",
        "s=[]\n",
        "moy=[]\n",
        "for k in range(200):\n",
        "  s.append(blackSholes(r,sigma))\n",
        "for j in range(200):\n",
        "  moy.append(np.sum(s[k]/len(s[k])))\n",
        "moyenne=np.sum(moy)/200\n",
        "print(moyenne)"
      ],
      "metadata": {
        "colab": {
          "base_uri": "https://localhost:8080/"
        },
        "id": "sD0Cgl5vBUZd",
        "outputId": "9f0bde40-310b-4f7a-856d-8645a02e46d2"
      },
      "execution_count": null,
      "outputs": [
        {
          "output_type": "stream",
          "name": "stdout",
          "text": [
            "104.29476310736665\n"
          ]
        }
      ]
    },
    {
      "cell_type": "code",
      "source": [
        "#sigma=0.4 et r=0.1\n",
        "sigma=0.4\n",
        "r=0.1\n",
        "s=[]\n",
        "moy=[]\n",
        "for k in range(200):\n",
        "  s.append(blackSholes(r,sigma))\n",
        "for j in range(200):\n",
        "  moy.append(np.sum(s[k]/len(s[k])))\n",
        "moyenne=np.sum(moy)/200\n",
        "print(moyenne)"
      ],
      "metadata": {
        "colab": {
          "base_uri": "https://localhost:8080/"
        },
        "id": "Ia5jNqDtBbuL",
        "outputId": "ca94737c-abe7-47fc-cb2e-a12f0844f168"
      },
      "execution_count": null,
      "outputs": [
        {
          "output_type": "stream",
          "name": "stdout",
          "text": [
            "98.87910471562394\n"
          ]
        }
      ]
    },
    {
      "cell_type": "markdown",
      "source": [
        "Fixant sigma et variant r"
      ],
      "metadata": {
        "id": "QH3quvjFBkQO"
      }
    },
    {
      "cell_type": "code",
      "source": [
        "#sigma=0.2 et r=0.05\n",
        "sigma=0.2\n",
        "r=0.05\n",
        "s=[]\n",
        "moy=[]\n",
        "for k in range(200):\n",
        "  s.append(blackSholes(r,sigma))\n",
        "for j in range(200):\n",
        "  moy.append(np.sum(s[k]/len(s[k])))\n",
        "moyenne=np.sum(moy)/200\n",
        "print(moyenne)"
      ],
      "metadata": {
        "colab": {
          "base_uri": "https://localhost:8080/"
        },
        "id": "BjduTFjBBySd",
        "outputId": "52230a6b-b9dd-44b9-da70-830a77d9db2b"
      },
      "execution_count": null,
      "outputs": [
        {
          "output_type": "stream",
          "name": "stdout",
          "text": [
            "103.3639470609315\n"
          ]
        }
      ]
    },
    {
      "cell_type": "code",
      "source": [
        "#sigma=0.2 et r=0.1\n",
        "sigma=0.2\n",
        "r=0.1\n",
        "s=[]\n",
        "moy=[]\n",
        "for k in range(200):\n",
        "  s.append(blackSholes(r,sigma))\n",
        "for j in range(200):\n",
        "  moy.append(np.sum(s[k]/len(s[k])))\n",
        "moyenne=np.sum(moy)/200\n",
        "print(moyenne)"
      ],
      "metadata": {
        "colab": {
          "base_uri": "https://localhost:8080/"
        },
        "id": "j6dNmCF6BnOq",
        "outputId": "e07f7d04-7b57-464d-bdba-203907525411"
      },
      "execution_count": null,
      "outputs": [
        {
          "output_type": "stream",
          "name": "stdout",
          "text": [
            "104.59880926559124\n"
          ]
        }
      ]
    },
    {
      "cell_type": "code",
      "source": [
        "#sigma=0.2 et r=0.2\n",
        "sigma=0.2\n",
        "r=0.2\n",
        "s=[]\n",
        "moy=[]\n",
        "for k in range(200):\n",
        "  s.append(blackSholes(r,sigma))\n",
        "for j in range(200):\n",
        "  moy.append(np.sum(s[k]/len(s[k])))\n",
        "moyenne=np.sum(moy)/200\n",
        "print(moyenne)"
      ],
      "metadata": {
        "colab": {
          "base_uri": "https://localhost:8080/"
        },
        "id": "rJ57VYrAB3UA",
        "outputId": "92fd3dcd-804b-4b84-a492-eed8c4484a13"
      },
      "execution_count": null,
      "outputs": [
        {
          "output_type": "stream",
          "name": "stdout",
          "text": [
            "110.579413594796\n"
          ]
        }
      ]
    },
    {
      "cell_type": "markdown",
      "source": [
        "Selon les résultats affichés ci-dessus on ne peut pas faire une interprétation selon la\n",
        "variation de sigma et r et leurs effets sur la variation de la moyenne parce qu'on utilise des\n",
        "variables aléatoires dans la fonction BoxMuller. Donc on affiche la variation de la\n",
        "moyenne selon la variation de sigma puis r sur une courbe comme affiché ci-dessous"
      ],
      "metadata": {
        "id": "1wW9Lqs0CHoO"
      }
    },
    {
      "cell_type": "code",
      "source": [
        "def moyenne(r,sigma):\n",
        "  y=[]\n",
        "  s=[]\n",
        "  moy=[]\n",
        "  moyenne=0\n",
        "  for k in range(200):\n",
        "    s.append(blackSholes(r,sigma))\n",
        "  for j in range(200):\n",
        "    moy.append(np.sum(s[k]/len(s[k])))\n",
        "  return(np.sum(moy)/200)"
      ],
      "metadata": {
        "id": "fuigKrtfCP_L"
      },
      "execution_count": null,
      "outputs": []
    },
    {
      "cell_type": "markdown",
      "source": [
        "Fixant r et variant sigma"
      ],
      "metadata": {
        "id": "CyB9XOYPDD-I"
      }
    },
    {
      "cell_type": "code",
      "source": [
        "sigma=np.linspace(0.1,15,50)\n",
        "moyen=[]\n",
        "for i in range(len(sigma)):\n",
        "  m=moyenne(0.1,sigma[i])\n",
        "  moyen.append(m)\n",
        "print(\"les sigma: \",sigma)\n",
        "print(\"les moyennes:\",moyen)\n",
        "plt.xlabel(\"sigma\")\n",
        "plt.ylabel(\"moyenne\")\n",
        "plt.plot(sigma,moyen)\n",
        "plt.show"
      ],
      "metadata": {
        "colab": {
          "base_uri": "https://localhost:8080/",
          "height": 525
        },
        "id": "GddhiPrhDFys",
        "outputId": "32660885-ccd3-4ecf-e04b-b84136d88e61"
      },
      "execution_count": null,
      "outputs": [
        {
          "output_type": "stream",
          "name": "stderr",
          "text": [
            "/usr/local/lib/python3.7/dist-packages/ipykernel_launcher.py:5: RuntimeWarning: invalid value encountered in sqrt\n",
            "  \"\"\"\n"
          ]
        },
        {
          "output_type": "stream",
          "name": "stdout",
          "text": [
            "les sigma:  [ 0.1         0.40408163  0.70816327  1.0122449   1.31632653  1.62040816\n",
            "  1.9244898   2.22857143  2.53265306  2.83673469  3.14081633  3.44489796\n",
            "  3.74897959  4.05306122  4.35714286  4.66122449  4.96530612  5.26938776\n",
            "  5.57346939  5.87755102  6.18163265  6.48571429  6.78979592  7.09387755\n",
            "  7.39795918  7.70204082  8.00612245  8.31020408  8.61428571  8.91836735\n",
            "  9.22244898  9.52653061  9.83061224 10.13469388 10.43877551 10.74285714\n",
            " 11.04693878 11.35102041 11.65510204 11.95918367 12.26326531 12.56734694\n",
            " 12.87142857 13.1755102  13.47959184 13.78367347 14.0877551  14.39183673\n",
            " 14.69591837 15.        ]\n",
            "les moyennes: [105.11569772076793, 98.40157028349142, 93.87698320490675, nan, nan, nan, nan, nan, nan, nan, nan, nan, nan, nan, nan, nan, nan, nan, nan, nan, nan, nan, nan, nan, nan, nan, nan, nan, nan, nan, nan, nan, nan, nan, nan, nan, nan, nan, nan, nan, nan, nan, nan, nan, nan, nan, nan, nan, nan, nan]\n"
          ]
        },
        {
          "output_type": "execute_result",
          "data": {
            "text/plain": [
              "<function matplotlib.pyplot.show>"
            ]
          },
          "metadata": {},
          "execution_count": 24
        },
        {
          "output_type": "display_data",
          "data": {
            "image/png": "[encoded data removed]",
            "text/plain": [
              "<Figure size 432x288 with 1 Axes>"
            ]
          },
          "metadata": {
            "needs_background": "light"
          }
        }
      ]
    },
    {
      "cell_type": "markdown",
      "source": [
        "fixant sigma et variant r"
      ],
      "metadata": {
        "id": "8VFAzFwgEQjL"
      }
    },
    {
      "cell_type": "code",
      "source": [
        "r=np.linspace(0.1,15,50)\n",
        "moyen=[]\n",
        "for i in range(len(r)):\n",
        "  m=moyenne(r[i],0.2)\n",
        "  moyen.append(m)\n",
        "print(\"les r: \",r)\n",
        "print(\"les moyennes:\",moyen)\n",
        "plt.xlabel(\"r\")\n",
        "plt.ylabel(\"moyenne\")\n",
        "plt.plot(sigma,moyen)\n",
        "plt.show\n"
      ],
      "metadata": {
        "colab": {
          "base_uri": "https://localhost:8080/",
          "height": 526
        },
        "id": "bYQaxcGoESny",
        "outputId": "519fa31d-fff3-4465-da0e-56c6a4edd6ce"
      },
      "execution_count": null,
      "outputs": [
        {
          "output_type": "stream",
          "name": "stderr",
          "text": [
            "/usr/local/lib/python3.7/dist-packages/ipykernel_launcher.py:5: RuntimeWarning: invalid value encountered in sqrt\n",
            "  \"\"\"\n"
          ]
        },
        {
          "output_type": "stream",
          "name": "stdout",
          "text": [
            "les r:  [ 0.1         0.40408163  0.70816327  1.0122449   1.31632653  1.62040816\n",
            "  1.9244898   2.22857143  2.53265306  2.83673469  3.14081633  3.44489796\n",
            "  3.74897959  4.05306122  4.35714286  4.66122449  4.96530612  5.26938776\n",
            "  5.57346939  5.87755102  6.18163265  6.48571429  6.78979592  7.09387755\n",
            "  7.39795918  7.70204082  8.00612245  8.31020408  8.61428571  8.91836735\n",
            "  9.22244898  9.52653061  9.83061224 10.13469388 10.43877551 10.74285714\n",
            " 11.04693878 11.35102041 11.65510204 11.95918367 12.26326531 12.56734694\n",
            " 12.87142857 13.1755102  13.47959184 13.78367347 14.0877551  14.39183673\n",
            " 14.69591837 15.        ]\n",
            "les moyennes: [104.13526996224253, 123.65453257670946, 143.7616420507486, nan, nan, nan, nan, nan, nan, nan, nan, nan, nan, nan, nan, nan, nan, nan, nan, nan, nan, nan, nan, nan, nan, nan, nan, nan, nan, nan, nan, nan, nan, nan, nan, nan, nan, nan, nan, nan, nan, nan, nan, nan, nan, nan, nan, nan, nan, nan]\n"
          ]
        },
        {
          "output_type": "execute_result",
          "data": {
            "text/plain": [
              "<function matplotlib.pyplot.show>"
            ]
          },
          "metadata": {},
          "execution_count": 25
        },
        {
          "output_type": "display_data",
          "data": {
            "image/png": "[encoded data removed]",
            "text/plain": [
              "<Figure size 432x288 with 1 Axes>"
            ]
          },
          "metadata": {
            "needs_background": "light"
          }
        }
      ]
    },
    {
      "cell_type": "markdown",
      "source": [
        "On remarque que la courbe de variation de la moyenne si r est fixe est presque une\n",
        "droite et la deuxième courbe (si sigma est fixe) admet une grande variation donc la\n",
        "fonction Black & Sholes est indépendante par rapport à sigma."
      ],
      "metadata": {
        "id": "n1E4HWBHFF1U"
      }
    },
    {
      "cell_type": "markdown",
      "source": [
        "**TP2: Exercice 2**"
      ],
      "metadata": {
        "id": "l1zLl3qKFJ7h"
      }
    },
    {
      "cell_type": "code",
      "source": [
        "# Implémentation de la fonction pricing\n",
        "def pricing (S0,k,sigma,r,T) :\n",
        "  d1=(np.log(S0/k)+(r+(sigma**2)/2)*(T-0))/(sigma*np.sqrt(T-0))\n",
        "  d2=d1-sigma*np.sqrt(T)\n",
        "  u= S0*stat.norm.cdf(d1,loc=0,scale=1) - k*np.exp(-r*(T))*stat.norm.cdf(d2,loc=0,scale=1)\n",
        "  return u"
      ],
      "metadata": {
        "id": "nK32F_prFXkj"
      },
      "execution_count": null,
      "outputs": []
    },
    {
      "cell_type": "markdown",
      "source": [
        "Call européen avec: S0 = 100, K = 100, σ = 0, 2, r = 0, 1, T = 1\n"
      ],
      "metadata": {
        "id": "c-BOdCQ-I3Cm"
      }
    },
    {
      "cell_type": "code",
      "source": [
        "pricing(100,100,0.2,0.1,1)"
      ],
      "metadata": {
        "colab": {
          "base_uri": "https://localhost:8080/"
        },
        "id": "xJRfBorwGoSj",
        "outputId": "91a53d51-c12f-48f2-853c-021a635db7f4"
      },
      "execution_count": null,
      "outputs": [
        {
          "output_type": "execute_result",
          "data": {
            "text/plain": [
              "13.269676584660893"
            ]
          },
          "metadata": {},
          "execution_count": 27
        }
      ]
    },
    {
      "cell_type": "code",
      "source": [
        "def MonteCarlo (S0,k,sigma,r,T,n):\n",
        "  CE =0\n",
        "  t= Boxmuller(n)\n",
        "  L=[t[i] for i in range (n)]\n",
        "  for i in range(n) :\n",
        "    st=S0*np.exp((r-0.5*sigma**2)*T+sigma*np.sqrt(T)*L[i])\n",
        "    if (st>k) :\n",
        "      call=st-k\n",
        "    else :\n",
        "      call=0\n",
        "    CE=CE+call\n",
        "  CE=CE/n\n",
        "  return CE"
      ],
      "metadata": {
        "id": "kcp2DdVGHvli"
      },
      "execution_count": null,
      "outputs": []
    },
    {
      "cell_type": "markdown",
      "source": [
        "MonteCarlo avec: S0 = 100, K = 100, σ = 0, 2, r = 0, 1, T = 1, n = 100"
      ],
      "metadata": {
        "id": "K4Y97_DTI_aa"
      }
    },
    {
      "cell_type": "code",
      "source": [
        "MonteCarlo(100,100,0.2,0.1,1,100)"
      ],
      "metadata": {
        "colab": {
          "base_uri": "https://localhost:8080/"
        },
        "id": "Je3tLDVfIyRO",
        "outputId": "c2472f92-21e3-4605-a0fc-8dfff8bee600"
      },
      "execution_count": null,
      "outputs": [
        {
          "output_type": "execute_result",
          "data": {
            "text/plain": [
              "12.910746458821668"
            ]
          },
          "metadata": {},
          "execution_count": 29
        }
      ]
    },
    {
      "cell_type": "markdown",
      "source": [
        "La valeur empérique est très proche de la valeur réelle"
      ],
      "metadata": {
        "id": "IKvyOwflKnAi"
      }
    },
    {
      "cell_type": "code",
      "source": [
        "# variation de S0 :\n",
        "for S0 in (100,200,300,400) :\n",
        "  print('S0 = ', S0)\n",
        "  print(MonteCarlo(S0,100,0.2,0.1,1,100))\n",
        "  print(\"\\n\")"
      ],
      "metadata": {
        "colab": {
          "base_uri": "https://localhost:8080/"
        },
        "id": "3aTmBnA6LF9x",
        "outputId": "7054199f-dd21-4ae5-aa7a-52e1d34775dd"
      },
      "execution_count": null,
      "outputs": [
        {
          "output_type": "stream",
          "name": "stdout",
          "text": [
            "S0 =  100\n",
            "11.841256567978167\n",
            "\n",
            "\n",
            "S0 =  200\n",
            "125.86678804760652\n",
            "\n",
            "\n",
            "S0 =  300\n",
            "233.79095771998385\n",
            "\n",
            "\n",
            "S0 =  400\n",
            "348.8278650679655\n",
            "\n",
            "\n"
          ]
        }
      ]
    },
    {
      "cell_type": "code",
      "source": [
        "# variation de sigma :\n",
        "for sigma in (0.2,0.3,0.4,0.5) :\n",
        "  print('sigma = ', sigma)\n",
        "  print(MonteCarlo(100,100,sigma,0.1,1,100))\n",
        "  print(\"\\n\")"
      ],
      "metadata": {
        "colab": {
          "base_uri": "https://localhost:8080/"
        },
        "id": "Rn_ltPyOMZlW",
        "outputId": "61c6556c-5d4e-48b8-e99a-1aa1b5dc2af1"
      },
      "execution_count": null,
      "outputs": [
        {
          "output_type": "stream",
          "name": "stdout",
          "text": [
            "sigma =  0.2\n",
            "15.239972430063746\n",
            "\n",
            "\n",
            "sigma =  0.3\n",
            "16.579060674992537\n",
            "\n",
            "\n",
            "sigma =  0.4\n",
            "22.654898023530492\n",
            "\n",
            "\n",
            "sigma =  0.5\n",
            "24.27956882184217\n",
            "\n",
            "\n"
          ]
        }
      ]
    },
    {
      "cell_type": "code",
      "source": [
        "# variation de r :\n",
        "for r in (0.1,0.2,0.3,0.4) :\n",
        "  print('r = ', r)\n",
        "  print(MonteCarlo(100,100,0.2,r,1,100))\n",
        "  print(\"\\n\")"
      ],
      "metadata": {
        "colab": {
          "base_uri": "https://localhost:8080/"
        },
        "id": "7N0BaQEQM0gK",
        "outputId": "a976fd49-5066-4462-efc2-65060403bec9"
      },
      "execution_count": null,
      "outputs": [
        {
          "output_type": "stream",
          "name": "stdout",
          "text": [
            "r =  0.1\n",
            "14.152159286758412\n",
            "\n",
            "\n",
            "r =  0.2\n",
            "22.816838185440197\n",
            "\n",
            "\n",
            "r =  0.3\n",
            "32.150815777534824\n",
            "\n",
            "\n",
            "r =  0.4\n",
            "49.15096085969148\n",
            "\n",
            "\n"
          ]
        }
      ]
    },
    {
      "cell_type": "code",
      "source": [
        "# variation de T :\n",
        "for T in (1,2,3,4) :\n",
        "  print('T = ', T)\n",
        "  print(MonteCarlo(100,100,0.2,0.1,T,100))\n",
        "  print(\"\\n\")"
      ],
      "metadata": {
        "colab": {
          "base_uri": "https://localhost:8080/"
        },
        "id": "fLWlUdQoNHMU",
        "outputId": "f65fd424-88ce-4a60-fd90-b2ba41611b79"
      },
      "execution_count": null,
      "outputs": [
        {
          "output_type": "stream",
          "name": "stdout",
          "text": [
            "T =  1\n",
            "15.740699066836061\n",
            "\n",
            "\n",
            "T =  2\n",
            "27.390926213922068\n",
            "\n",
            "\n",
            "T =  3\n",
            "45.243964013216015\n",
            "\n",
            "\n",
            "T =  4\n",
            "46.655284382250656\n",
            "\n",
            "\n"
          ]
        }
      ]
    },
    {
      "cell_type": "markdown",
      "source": [
        "La valeur du call européen varie si on varie r, sigma, S0 et T. Ainsi, elle dépend de ces\n",
        "paramètres."
      ],
      "metadata": {
        "id": "mAFqAGibN0HY"
      }
    }
  ]
}